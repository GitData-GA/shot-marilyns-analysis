{
  "cells": [
    {
      "cell_type": "markdown",
      "metadata": {
        "id": "view-in-github",
        "colab_type": "text"
      },
      "source": [
        "<a href=\"https://colab.research.google.com/github/GitData-GA/shot-marilyns-analysis/blob/main/main.ipynb\" target=\"_parent\"><img src=\"https://colab.research.google.com/assets/colab-badge.svg\" alt=\"Open In Colab\"/></a>"
      ]
    },
    {
      "cell_type": "markdown",
      "metadata": {
        "id": "_9D4brbMESGe"
      },
      "source": [
        "# Import libraries and scripts"
      ]
    },
    {
      "cell_type": "code",
      "execution_count": null,
      "metadata": {
        "id": "oguePuOiAy3t"
      },
      "outputs": [],
      "source": [
        "import os\n",
        "import shutil\n",
        "import sys\n",
        "\n",
        "!git clone https://github.com/GitData-GA/shot-marilyns-analysis.git\n",
        "sys.path.insert(0, './shot-marilyns-analysis/src')\n",
        "\n",
        "import sma\n",
        "os.makedirs(r'img')"
      ]
    },
    {
      "cell_type": "markdown",
      "metadata": {
        "id": "ySUTIX2bDXTF"
      },
      "source": [
        "# Improt images and prepare data\n",
        "\n",
        "Source code of used functions in this section:\n",
        "\n",
        "- `sma.utils.save_img`: https://github.com/GitData-GA/shot-marilyns-analysis/blob/main/src/sma/utils/save_img.py\n",
        "\n",
        "- `sma.utils.np_convert`: https://github.com/GitData-GA/shot-marilyns-analysis/blob/main/src/sma/utils/np_convert.py\n",
        "\n",
        "- `sma.utils.pd_convert`: https://github.com/GitData-GA/shot-marilyns-analysis/blob/main/src/sma/utils/pd_convert.py\n"
      ]
    },
    {
      "cell_type": "code",
      "execution_count": null,
      "metadata": {
        "id": "0e_XdQCNBJbj"
      },
      "outputs": [],
      "source": [
        "img_links = {\n",
        "    \"orange_marilyn\": \"https://shotmarilyns.gd.edu.kg/assets/img/1_1_orange_marilyn.jpg\",\n",
        "    \"red_marilyn\": \"https://shotmarilyns.gd.edu.kg/assets/img/1_2_red_marilyn.jpg\",\n",
        "    \"turq_marilyn\": \"https://shotmarilyns.gd.edu.kg/assets/img/1_3_turq_marilyn.jpg\",\n",
        "    \"blue_marilyn\": \"https://shotmarilyns.gd.edu.kg/assets/img/1_4_blue_marilyn.jpg\",\n",
        "    \"eggblue_marilyn\": \"https://shotmarilyns.gd.edu.kg/assets/img/1_5_eggblue_marilyn.jpg\"\n",
        "}"
      ]
    },
    {
      "cell_type": "markdown",
      "metadata": {
        "id": "KpK5OYNuo77Y"
      },
      "source": [
        "## Save images to local directory"
      ]
    },
    {
      "cell_type": "code",
      "execution_count": null,
      "metadata": {
        "id": "XTFMI8Xcn6UR"
      },
      "outputs": [],
      "source": [
        "sma.utils.save_img(img_links, img_idx=1)"
      ]
    },
    {
      "cell_type": "markdown",
      "metadata": {
        "id": "2Vn31lmZWN8R"
      },
      "source": [
        "## Store the images as a NumPy array"
      ]
    },
    {
      "cell_type": "code",
      "execution_count": null,
      "metadata": {
        "id": "FrmAl_wPDZqM"
      },
      "outputs": [],
      "source": [
        "np_img = sma.utils.np_convert(img_links)\n",
        "np_img['orange_marilyn']"
      ]
    },
    {
      "cell_type": "markdown",
      "metadata": {
        "id": "1TQbFyAUV2xs"
      },
      "source": [
        "## Store the images as a dictionary of 5 Pandas dataframes with HEX codes"
      ]
    },
    {
      "cell_type": "code",
      "execution_count": null,
      "metadata": {
        "id": "o5F81926TRCs"
      },
      "outputs": [],
      "source": [
        "pd_img = sma.utils.pd_convert(img_links)\n",
        "pd_img['orange_marilyn']"
      ]
    },
    {
      "cell_type": "markdown",
      "metadata": {
        "id": "Ak4P8OdVkVqD"
      },
      "source": [
        "# Visualization\n",
        "\n",
        "Source code of used functions in this section:\n",
        "\n",
        "- `sma.plot.distribution`: https://github.com/GitData-GA/shot-marilyns-analysis/blob/main/src/sma/plot/distribution.py\n",
        "\n",
        "- `sma.plot.entropy_heatmap`: https://github.com/GitData-GA/shot-marilyns-analysis/blob/main/src/sma/plot/entropy_heatmap.py\n",
        "\n",
        "- `sma.plot.scatter`: https://github.com/GitData-GA/shot-marilyns-analysis/blob/main/src/sma/plot/scatter.py\n",
        "\n",
        "- `sma.cluster.kmeans`: https://github.com/GitData-GA/shot-marilyns-analysis/blob/main/src/sma/cluster/kmeans.py\n",
        "\n",
        "- `sma.plot.bar`: https://github.com/GitData-GA/shot-marilyns-analysis/blob/main/src/sma/plot/bar.py\n",
        "\n",
        "- `sma.plot.ribbon`: https://github.com/GitData-GA/shot-marilyns-analysis/blob/main/src/sma/plot/ribbon.py"
      ]
    },
    {
      "cell_type": "markdown",
      "metadata": {
        "id": "LVajlTZwZxRa"
      },
      "source": [
        "## Distribution plots"
      ]
    },
    {
      "cell_type": "code",
      "execution_count": null,
      "metadata": {
        "id": "wj2VdMsWuLu3"
      },
      "outputs": [],
      "source": [
        "sma.plot.distribution(np_img, img_idx=2)"
      ]
    },
    {
      "cell_type": "markdown",
      "metadata": {
        "id": "WUApVeKDdBgJ"
      },
      "source": [
        "## Relative conditional entropy plots"
      ]
    },
    {
      "cell_type": "code",
      "execution_count": null,
      "metadata": {
        "id": "0ihlb7qswxz4"
      },
      "outputs": [],
      "source": [
        "sma.plot.entropy_heatmap(np_img, img_idx=3)"
      ]
    },
    {
      "cell_type": "markdown",
      "metadata": {
        "id": "phgE3dP-cGxs"
      },
      "source": [
        "## RGB space scatterplots"
      ]
    },
    {
      "cell_type": "code",
      "execution_count": null,
      "metadata": {
        "collapsed": true,
        "id": "4SdH1h3P1qJJ"
      },
      "outputs": [],
      "source": [
        "sma.plot.scatter(pd_img, img_idx=4)"
      ]
    },
    {
      "cell_type": "markdown",
      "metadata": {
        "id": "tbYxneMuWrah"
      },
      "source": [
        "## KMeans clustering"
      ]
    },
    {
      "cell_type": "code",
      "source": [
        "kmean_result = sma.cluster.kmeans(pd_img, n_clusters=15)"
      ],
      "metadata": {
        "id": "ObFkRon4l3Un"
      },
      "execution_count": null,
      "outputs": []
    },
    {
      "cell_type": "markdown",
      "source": [
        "### Scatter plot by clusters"
      ],
      "metadata": {
        "id": "0H7SwbbixOvl"
      }
    },
    {
      "cell_type": "code",
      "execution_count": null,
      "metadata": {
        "id": "a0A2vaeD7yP9"
      },
      "outputs": [],
      "source": [
        "sma.plot.scatter(pd_img, img_idx=5, kmeans=kmean_result)"
      ]
    },
    {
      "cell_type": "markdown",
      "source": [
        "### Bar chart by clusters"
      ],
      "metadata": {
        "id": "ekoZzJ6KxS-d"
      }
    },
    {
      "cell_type": "code",
      "source": [
        "sma.plot.bar(pd_img, img_idx=6, kmeans=kmean_result)"
      ],
      "metadata": {
        "id": "cDe9bomqmsyu"
      },
      "execution_count": null,
      "outputs": []
    },
    {
      "cell_type": "markdown",
      "source": [
        "### Color ribbon by clusters"
      ],
      "metadata": {
        "id": "rTB8V-sOxWAd"
      }
    },
    {
      "cell_type": "code",
      "source": [
        "sma.plot.ribbon(pd_img, img_idx=7, kmeans=kmean_result)"
      ],
      "metadata": {
        "id": "9IW8QV_0osTd"
      },
      "execution_count": null,
      "outputs": []
    },
    {
      "cell_type": "markdown",
      "source": [
        "# Region of interest\n",
        "\n",
        "Source code of used functions in this section:\n",
        "\n",
        "- `sma.roi.extract`: https://github.com/GitData-GA/shot-marilyns-analysis/blob/main/src/sma/roi/extract.py\n",
        "\n",
        "- `sma.roi.manual_fix`: https://github.com/GitData-GA/shot-marilyns-analysis/blob/main/src/sma/roi/manual_fix.py"
      ],
      "metadata": {
        "id": "dNm7JnITLvly"
      }
    },
    {
      "cell_type": "markdown",
      "source": [
        "## Orange Marilyn"
      ],
      "metadata": {
        "id": "QzS3n9atk4jX"
      }
    },
    {
      "cell_type": "code",
      "source": [
        "orange_marilyn_roi = {}\n",
        "\n",
        "for param in [(\"8_1\", \"background\", [(0, 100, 0, 100)]),\n",
        "              (\"8_2\", \"hair\", [(100, 150, 300, 400)]),\n",
        "              (\"8_3\", \"eyeshadow\", [(460, 490, 450, 550)]),\n",
        "              (\"8_4\", \"face\", [(300, 418, 300, 610)])]:\n",
        "  orange_marilyn_roi[param[1]] = sma.roi.extract(\n",
        "      np_img, \"orange_marilyn\", param[0], param[1],\n",
        "      param[2]\n",
        "  )"
      ],
      "metadata": {
        "id": "Nj40KXUtZQf0"
      },
      "execution_count": null,
      "outputs": []
    },
    {
      "cell_type": "markdown",
      "source": [
        "## Red Marilyn"
      ],
      "metadata": {
        "id": "tcra_4Zuk9Ru"
      }
    },
    {
      "cell_type": "code",
      "source": [
        "red_marilyn_roi = {}\n",
        "\n",
        "for param in [(\"9_1\", \"background\", [(0, 960, 0, 30), (0, 960, 930, 960)]),\n",
        "              (\"9_2\", \"hair\", [(10, 200, 300, 380), (10, 200, 440, 520)]),\n",
        "              (\"9_3\", \"eyeshadow\", [(455, 480, 455, 520)]),\n",
        "              (\"9_4\", \"face\", [(280, 460, 310, 435)])]:\n",
        "  red_marilyn_roi[param[1]] = sma.roi.extract(\n",
        "      np_img, \"red_marilyn\", param[0], param[1],\n",
        "      param[2]\n",
        "  )\n",
        "  if param[1] == \"background\":\n",
        "    red_marilyn_roi[param[1]] = sma.roi.manual_fix(\n",
        "        red_marilyn_roi[param[1]],\n",
        "        \"red_marilyn\", \"9_1\", \"background\",\n",
        "        690, 800, 275, 475\n",
        "    )"
      ],
      "metadata": {
        "id": "V7ha-ki-Eo80"
      },
      "execution_count": null,
      "outputs": []
    },
    {
      "cell_type": "markdown",
      "source": [
        "## Turq Marilyn"
      ],
      "metadata": {
        "id": "NauRWqqHlBDI"
      }
    },
    {
      "cell_type": "code",
      "source": [
        "turq_marilyn_roi = {}\n",
        "\n",
        "for param in [(\"10_1\", \"background\", [(0, 960, 0, 40), (0, 960, 930, 970)]),\n",
        "              (\"10_2\", \"hair\", [(15, 200, 490, 580)]),\n",
        "              (\"10_3\", \"eyeshadow\", [(470, 490, 300, 320), (470, 490, 500, 550)]),\n",
        "              (\"10_4\", \"face\", [(280, 370, 310, 410), (280, 370, 500, 600), (700, 790, 490, 540)])]:\n",
        "  turq_marilyn_roi[param[1]] = sma.roi.extract(\n",
        "      np_img, \"turq_marilyn\", param[0], param[1],\n",
        "      param[2]\n",
        "  )"
      ],
      "metadata": {
        "id": "M14-iQACGCXr"
      },
      "execution_count": null,
      "outputs": []
    },
    {
      "cell_type": "markdown",
      "source": [
        "## Blue Marilyn"
      ],
      "metadata": {
        "id": "ESZ8yJLZlFn-"
      }
    },
    {
      "cell_type": "code",
      "source": [
        "blue_marilyn_background = sma.roi.extract(\n",
        "    np_img, \"blue_marilyn\", \"11_1\", \"background\",\n",
        "    [(0, 960, 0, 30), (0, 960, 930, 960)],\n",
        "    verbose=True\n",
        ")"
      ],
      "metadata": {
        "id": "M8psvgs0jIGG"
      },
      "execution_count": null,
      "outputs": []
    },
    {
      "cell_type": "markdown",
      "source": [
        "## Eggblue Marilyn"
      ],
      "metadata": {
        "id": "xLcKuII_lIQX"
      }
    },
    {
      "cell_type": "code",
      "source": [
        "eggblue_marilyn_background = sma.roi.extract(\n",
        "    np_img, \"eggblue_marilyn\", \"12_1\", \"background\",\n",
        "    [(0, 910, 0, 20), (0, 910, 920, 940)],\n",
        "    verbose=True\n",
        ")"
      ],
      "metadata": {
        "id": "3jG-4S0rjNG2"
      },
      "execution_count": null,
      "outputs": []
    },
    {
      "cell_type": "markdown",
      "metadata": {
        "id": "Hk_EgcwEgmQo"
      },
      "source": [
        "# Save all images in a zip file"
      ]
    },
    {
      "cell_type": "code",
      "execution_count": null,
      "metadata": {
        "id": "WrRr8euGyQ0z"
      },
      "outputs": [],
      "source": [
        "shutil.make_archive(\"img.zip\".replace('.zip', ''), 'zip', 'img')"
      ]
    }
  ],
  "metadata": {
    "colab": {
      "provenance": [],
      "authorship_tag": "ABX9TyOZ+qPn+U+renhSFa0lGb4H",
      "include_colab_link": true
    },
    "kernelspec": {
      "display_name": "Python 3",
      "name": "python3"
    },
    "language_info": {
      "name": "python"
    }
  },
  "nbformat": 4,
  "nbformat_minor": 0
}