{
  "cells": [
    {
      "cell_type": "markdown",
      "metadata": {
        "id": "view-in-github",
        "colab_type": "text"
      },
      "source": [
        "<a href=\"https://colab.research.google.com/github/GitData-GA/shot-marilyns-analysis/blob/main/main.ipynb\" target=\"_parent\"><img src=\"https://colab.research.google.com/assets/colab-badge.svg\" alt=\"Open In Colab\"/></a>"
      ]
    },
    {
      "cell_type": "markdown",
      "metadata": {
        "id": "_9D4brbMESGe"
      },
      "source": [
        "# Import libraries and scripts"
      ]
    },
    {
      "cell_type": "code",
      "execution_count": null,
      "metadata": {
        "id": "oguePuOiAy3t"
      },
      "outputs": [],
      "source": [
        "import os\n",
        "import shutil\n",
        "import sys\n",
        "\n",
        "!git clone https://github.com/GitData-GA/shot-marilyns-analysis.git\n",
        "sys.path.insert(0, './shot-marilyns-analysis/src')\n",
        "\n",
        "import sma\n",
        "os.makedirs(r'img')"
      ]
    },
    {
      "cell_type": "markdown",
      "metadata": {
        "id": "ySUTIX2bDXTF"
      },
      "source": [
        "# Improt images and prepare data\n",
        "\n",
        "Source code of used functions in this section:\n",
        "\n",
        "- `sma.utils.save_img`: https://github.com/GitData-GA/shot-marilyns-analysis/blob/main/src/sma/utils/save_img.py\n",
        "\n",
        "- `sma.utils.np_convert`: https://github.com/GitData-GA/shot-marilyns-analysis/blob/main/src/sma/utils/np_convert.py\n",
        "\n",
        "- `sma.utils.pd_convert`: https://github.com/GitData-GA/shot-marilyns-analysis/blob/main/src/sma/utils/pd_convert.py\n"
      ]
    },
    {
      "cell_type": "code",
      "execution_count": null,
      "metadata": {
        "id": "0e_XdQCNBJbj"
      },
      "outputs": [],
      "source": [
        "img_links = {\n",
        "    \"orange_marilyn\": \"https://shotmarilyns.gd.edu.kg/assets/img/1_1_orange_marilyn.jpg\",\n",
        "    \"red_marilyn\": \"https://shotmarilyns.gd.edu.kg/assets/img/1_2_red_marilyn.jpg\",\n",
        "    \"turq_marilyn\": \"https://shotmarilyns.gd.edu.kg/assets/img/1_3_turq_marilyn.jpg\",\n",
        "    \"blue_marilyn\": \"https://shotmarilyns.gd.edu.kg/assets/img/1_4_blue_marilyn.jpg\",\n",
        "    \"eggblue_marilyn\": \"https://shotmarilyns.gd.edu.kg/assets/img/1_5_eggblue_marilyn.jpg\"\n",
        "}"
      ]
    },
    {
      "cell_type": "markdown",
      "metadata": {
        "id": "KpK5OYNuo77Y"
      },
      "source": [
        "## Save images to local directory"
      ]
    },
    {
      "cell_type": "code",
      "execution_count": null,
      "metadata": {
        "id": "XTFMI8Xcn6UR"
      },
      "outputs": [],
      "source": [
        "sma.utils.save_img(img_links=img_links, img_idx=1, verbose=True)"
      ]
    },
    {
      "cell_type": "markdown",
      "metadata": {
        "id": "2Vn31lmZWN8R"
      },
      "source": [
        "## Store the images as a NumPy array"
      ]
    },
    {
      "cell_type": "code",
      "execution_count": null,
      "metadata": {
        "id": "FrmAl_wPDZqM"
      },
      "outputs": [],
      "source": [
        "np_img = sma.utils.np_convert(img_links=img_links)\n",
        "np_img['blue_marilyn']"
      ]
    },
    {
      "cell_type": "markdown",
      "metadata": {
        "id": "1TQbFyAUV2xs"
      },
      "source": [
        "## Store the images as a dictionary of 5 Pandas dataframes with HEX codes"
      ]
    },
    {
      "cell_type": "code",
      "execution_count": null,
      "metadata": {
        "id": "o5F81926TRCs"
      },
      "outputs": [],
      "source": [
        "pd_img = sma.utils.pd_convert(np_img=np_img)\n",
        "pd_img['orange_marilyn']"
      ]
    },
    {
      "cell_type": "markdown",
      "metadata": {
        "id": "Ak4P8OdVkVqD"
      },
      "source": [
        "# Visualization\n",
        "\n",
        "Source code of used functions in this section:\n",
        "\n",
        "- `sma.plot.distribution`: https://github.com/GitData-GA/shot-marilyns-analysis/blob/main/src/sma/plot/distribution.py\n",
        "\n",
        "- `sma.plot.entropy_heatmap`: https://github.com/GitData-GA/shot-marilyns-analysis/blob/main/src/sma/plot/entropy_heatmap.py\n",
        "\n",
        "- `sma.plot.scatter`: https://github.com/GitData-GA/shot-marilyns-analysis/blob/main/src/sma/plot/scatter.py\n",
        "\n",
        "- `sma.cluster.kmeans`: https://github.com/GitData-GA/shot-marilyns-analysis/blob/main/src/sma/cluster/kmeans.py\n",
        "\n",
        "- `sma.plot.bar`: https://github.com/GitData-GA/shot-marilyns-analysis/blob/main/src/sma/plot/bar.py\n",
        "\n",
        "- `sma.plot.ribbon`: https://github.com/GitData-GA/shot-marilyns-analysis/blob/main/src/sma/plot/ribbon.py"
      ]
    },
    {
      "cell_type": "markdown",
      "metadata": {
        "id": "LVajlTZwZxRa"
      },
      "source": [
        "## Distribution plots"
      ]
    },
    {
      "cell_type": "code",
      "execution_count": null,
      "metadata": {
        "id": "wj2VdMsWuLu3",
        "collapsed": true
      },
      "outputs": [],
      "source": [
        "sma.plot.distribution(np_img=np_img, img_idx=2, verbose=True)"
      ]
    },
    {
      "cell_type": "markdown",
      "metadata": {
        "id": "WUApVeKDdBgJ"
      },
      "source": [
        "## Relative conditional entropy plots"
      ]
    },
    {
      "cell_type": "code",
      "execution_count": null,
      "metadata": {
        "id": "0ihlb7qswxz4"
      },
      "outputs": [],
      "source": [
        "sma.plot.entropy_heatmap(np_img=np_img, img_idx=3, verbose=True)"
      ]
    },
    {
      "cell_type": "markdown",
      "metadata": {
        "id": "phgE3dP-cGxs"
      },
      "source": [
        "## RGB space scatterplots"
      ]
    },
    {
      "cell_type": "code",
      "execution_count": null,
      "metadata": {
        "collapsed": true,
        "id": "4SdH1h3P1qJJ"
      },
      "outputs": [],
      "source": [
        "sma.plot.scatter(pd_img=pd_img, img_idx=4, verbose=True)"
      ]
    },
    {
      "cell_type": "markdown",
      "metadata": {
        "id": "tbYxneMuWrah"
      },
      "source": [
        "## KMeans clustering"
      ]
    },
    {
      "cell_type": "code",
      "source": [
        "kmean_result = sma.cluster.kmeans(pd_img=pd_img, n_clusters=10)"
      ],
      "metadata": {
        "id": "ObFkRon4l3Un"
      },
      "execution_count": null,
      "outputs": []
    },
    {
      "cell_type": "markdown",
      "source": [
        "### Scatter plot by clusters"
      ],
      "metadata": {
        "id": "0H7SwbbixOvl"
      }
    },
    {
      "cell_type": "code",
      "execution_count": null,
      "metadata": {
        "id": "a0A2vaeD7yP9"
      },
      "outputs": [],
      "source": [
        "sma.plot.scatter(pd_img=pd_img, img_idx=5, kmeans=kmean_result, verbose=True)"
      ]
    },
    {
      "cell_type": "markdown",
      "source": [
        "### Bar chart by clusters"
      ],
      "metadata": {
        "id": "ekoZzJ6KxS-d"
      }
    },
    {
      "cell_type": "code",
      "source": [
        "sma.plot.bar(pd_img=pd_img, img_idx=6, kmeans=kmean_result, verbose=True)"
      ],
      "metadata": {
        "id": "cDe9bomqmsyu"
      },
      "execution_count": null,
      "outputs": []
    },
    {
      "cell_type": "markdown",
      "source": [
        "### Color ribbon by clusters"
      ],
      "metadata": {
        "id": "rTB8V-sOxWAd"
      }
    },
    {
      "cell_type": "code",
      "source": [
        "sma.plot.ribbon(pd_img=pd_img, img_idx=7, kmeans=kmean_result, verbose=True)"
      ],
      "metadata": {
        "id": "9IW8QV_0osTd"
      },
      "execution_count": null,
      "outputs": []
    },
    {
      "cell_type": "markdown",
      "source": [
        "# Region of interest\n",
        "\n",
        "Source code of used functions in this section:\n",
        "\n",
        "- `sma.roi.extract`: https://github.com/GitData-GA/shot-marilyns-analysis/blob/main/src/sma/roi/extract.py"
      ],
      "metadata": {
        "id": "dNm7JnITLvly"
      }
    },
    {
      "cell_type": "markdown",
      "source": [
        "## Orange Marilyn"
      ],
      "metadata": {
        "id": "QzS3n9atk4jX"
      }
    },
    {
      "cell_type": "markdown",
      "source": [
        "### Extraction"
      ],
      "metadata": {
        "id": "vZewbKRUBNAT"
      }
    },
    {
      "cell_type": "code",
      "source": [
        "orange_marilyn_roi = {}\n",
        "\n",
        "for param in [\n",
        "    (\"8_1\", \"orange_marilyn_background\", \"sampling\", [(0, 100, 0, 100)], None),\n",
        "    (\"8_2\", \"orange_marilyn_hair\", \"sampling\", [(100, 150, 300, 400)], None),\n",
        "    (\"8_3\", \"orange_marilyn_eyeshadow\", \"sampling\", [(460, 490, 450, 550)], None),\n",
        "    (\"8_4\", \"orange_marilyn_face\", \"sampling\", [(300, 418, 300, 610)], None),\n",
        "]:\n",
        "    orange_marilyn_roi[param[1]] = sma.roi.extract(\n",
        "        np_img=np_img,\n",
        "        key=\"orange_marilyn\",\n",
        "        img_idx=param[0],\n",
        "        extraction_name=param[1],\n",
        "        param={\"method\": param[2], \"value\": param[3]},\n",
        "        fix=param[4],\n",
        "        verbose=True\n",
        "    )"
      ],
      "metadata": {
        "id": "Nj40KXUtZQf0"
      },
      "execution_count": null,
      "outputs": []
    },
    {
      "cell_type": "markdown",
      "source": [
        "### Plots"
      ],
      "metadata": {
        "id": "gbP9mp91BNhz"
      }
    },
    {
      "cell_type": "markdown",
      "source": [
        "#### Data preparation and clurstering"
      ],
      "metadata": {
        "id": "mLtpypS6Bk3U"
      }
    },
    {
      "cell_type": "code",
      "source": [
        "pd_img_orange_roi = {k: v[v['hex'] != '#000000'] for k, v in sma.utils.pd_convert(orange_marilyn_roi).items()}\n",
        "kmeans_orange_roi = sma.cluster.kmeans(pd_img_orange_roi, n_clusters=15)"
      ],
      "metadata": {
        "id": "7memvXfuBQwX"
      },
      "execution_count": null,
      "outputs": []
    },
    {
      "cell_type": "markdown",
      "source": [
        "#### Scatter plot with clusters"
      ],
      "metadata": {
        "id": "ffvHkB7fBqHU"
      }
    },
    {
      "cell_type": "code",
      "source": [
        "sma.plot.scatter(pd_img=pd_img_orange_roi, img_idx=9, kmeans=kmeans_orange_roi, verbose=True)"
      ],
      "metadata": {
        "id": "vNECcfp5BfVU"
      },
      "execution_count": null,
      "outputs": []
    },
    {
      "cell_type": "markdown",
      "source": [
        "#### Bar chart"
      ],
      "metadata": {
        "id": "daW75RKYBvt0"
      }
    },
    {
      "cell_type": "code",
      "source": [
        "sma.plot.bar(pd_img=pd_img_orange_roi, img_idx=10, kmeans=kmeans_orange_roi, verbose=True)"
      ],
      "metadata": {
        "id": "p9LUJpSLBdll"
      },
      "execution_count": null,
      "outputs": []
    },
    {
      "cell_type": "markdown",
      "source": [
        "#### Color ribbon"
      ],
      "metadata": {
        "id": "plXVVqLnByrE"
      }
    },
    {
      "cell_type": "code",
      "source": [
        "sma.plot.ribbon(pd_img=pd_img_orange_roi, img_idx=11, kmeans=kmeans_orange_roi, verbose=True)"
      ],
      "metadata": {
        "id": "OhUPZn0mBekk"
      },
      "execution_count": null,
      "outputs": []
    },
    {
      "cell_type": "markdown",
      "source": [
        "## Red Marilyn"
      ],
      "metadata": {
        "id": "tcra_4Zuk9Ru"
      }
    },
    {
      "cell_type": "markdown",
      "source": [
        "### Extraction"
      ],
      "metadata": {
        "id": "pTicvs48BMVD"
      }
    },
    {
      "cell_type": "code",
      "source": [
        "red_marilyn_roi = {}\n",
        "\n",
        "for param in [\n",
        "    (\"12_1\", \"red_marilyn_background\", \"sampling\", [(0, 960, 0, 30), (0, 960, 930, 960)], (690, 800, 275, 475)),\n",
        "    (\"12_2\", \"red_marilyn_hair\", \"sampling\", [(10, 200, 300, 380), (10, 200, 440, 520)], None),\n",
        "    (\"12_3\", \"red_marilyn_eyeshadow\", \"sampling\", [(455, 480, 455, 520)], None),\n",
        "    (\"12_4\", \"red_marilyn_face\", \"sampling\", [(280, 460, 310, 435)], None),\n",
        "]:\n",
        "    red_marilyn_roi[param[1]] = sma.roi.extract(\n",
        "        np_img=np_img,\n",
        "        key=\"red_marilyn\",\n",
        "        img_idx=param[0],\n",
        "        extraction_name=param[1],\n",
        "        param={\"method\": param[2], \"value\": param[3]},\n",
        "        fix=param[4],\n",
        "        verbose=True\n",
        "    )"
      ],
      "metadata": {
        "id": "V7ha-ki-Eo80"
      },
      "execution_count": null,
      "outputs": []
    },
    {
      "cell_type": "markdown",
      "source": [
        "### Plots"
      ],
      "metadata": {
        "id": "K70yRTxlDWB8"
      }
    },
    {
      "cell_type": "markdown",
      "source": [
        "#### Data preparation and clurstering"
      ],
      "metadata": {
        "id": "KY0bMyPdEV4k"
      }
    },
    {
      "cell_type": "code",
      "source": [
        "pd_img_red_roi = {k: v[v['hex'] != '#000000'] for k, v in sma.utils.pd_convert(red_marilyn_roi).items()}\n",
        "kmeans_red_roi = sma.cluster.kmeans(pd_img_red_roi, n_clusters=15)"
      ],
      "metadata": {
        "id": "BsGpDQcNDqml"
      },
      "execution_count": null,
      "outputs": []
    },
    {
      "cell_type": "markdown",
      "source": [
        "#### Scatter plot with clusters"
      ],
      "metadata": {
        "id": "NtXQdO73EDLO"
      }
    },
    {
      "cell_type": "code",
      "source": [
        "sma.plot.scatter(pd_img=pd_img_red_roi, img_idx=13, kmeans=kmeans_red_roi, verbose=True)"
      ],
      "metadata": {
        "id": "cmYm1YEwEg-c"
      },
      "execution_count": null,
      "outputs": []
    },
    {
      "cell_type": "markdown",
      "source": [
        "#### Bar chart\n"
      ],
      "metadata": {
        "id": "cp54x7GcEpKq"
      }
    },
    {
      "cell_type": "code",
      "source": [
        "sma.plot.bar(pd_img=pd_img_red_roi, img_idx=14, kmeans=kmeans_red_roi, verbose=True)"
      ],
      "metadata": {
        "id": "UwcWjTPxEss8"
      },
      "execution_count": null,
      "outputs": []
    },
    {
      "cell_type": "markdown",
      "source": [
        "#### Color ribbon"
      ],
      "metadata": {
        "id": "ACmdfJClExEf"
      }
    },
    {
      "cell_type": "code",
      "source": [
        "sma.plot.ribbon(pd_img=pd_img_red_roi, img_idx=15, kmeans=kmeans_red_roi, verbose=True)"
      ],
      "metadata": {
        "id": "aeTzA0qsE2C1"
      },
      "execution_count": null,
      "outputs": []
    },
    {
      "cell_type": "markdown",
      "source": [
        "## Turq Marilyn"
      ],
      "metadata": {
        "id": "NauRWqqHlBDI"
      }
    },
    {
      "cell_type": "markdown",
      "source": [
        "### Extraction"
      ],
      "metadata": {
        "id": "b-G9FeTTBLuU"
      }
    },
    {
      "cell_type": "code",
      "source": [
        "turq_marilyn_roi = {}\n",
        "\n",
        "for param in [\n",
        "    (\"16_1\", \"turq_marilyn_background\", \"sampling\", [(0, 960, 0, 40), (0, 960, 930, 970)], None),\n",
        "    (\"16_2\", \"turq_marilyn_hair\", \"exact\", [(19, 101, 70), (28, 255, 255)], None),\n",
        "    (\"16_3\", \"turq_marilyn_eyeshadow\", \"sampling\", [(470, 490, 300, 320), (470, 490, 500, 550)], None),\n",
        "    (\"16_4\", \"turq_marilyn_face\", \"exact\", [(0, 0, 0), (17, 100, 255)], None)\n",
        "]:\n",
        "    turq_marilyn_roi[param[1]] = sma.roi.extract(\n",
        "        np_img=np_img,\n",
        "        key=\"turq_marilyn\",\n",
        "        img_idx=param[0],\n",
        "        extraction_name=param[1],\n",
        "        param={\"method\": param[2], \"value\": param[3]},\n",
        "        fix=param[4],\n",
        "        verbose=True\n",
        "    )"
      ],
      "metadata": {
        "id": "M14-iQACGCXr"
      },
      "execution_count": null,
      "outputs": []
    },
    {
      "cell_type": "markdown",
      "source": [
        "### Plots"
      ],
      "metadata": {
        "id": "-pwunPSWF8ud"
      }
    },
    {
      "cell_type": "markdown",
      "source": [
        "#### Data preparation and clurstering"
      ],
      "metadata": {
        "id": "s07sFdVhRXUg"
      }
    },
    {
      "cell_type": "code",
      "source": [
        "pd_img_turq_roi = {k: v[v['hex'] != '#000000'] for k, v in sma.utils.pd_convert(turq_marilyn_roi).items()}\n",
        "kmeans_turq_roi = sma.cluster.kmeans(pd_img_turq_roi, n_clusters=15)"
      ],
      "metadata": {
        "id": "1N79MQMHF8Dl"
      },
      "execution_count": null,
      "outputs": []
    },
    {
      "cell_type": "markdown",
      "source": [
        "#### Scatter plot with clusters"
      ],
      "metadata": {
        "id": "m0VMm8yPRWkQ"
      }
    },
    {
      "cell_type": "code",
      "source": [
        "sma.plot.scatter(pd_img=pd_img_turq_roi, img_idx=17, kmeans=kmeans_turq_roi, verbose=True)"
      ],
      "metadata": {
        "id": "BKzn_K3HGLA6"
      },
      "execution_count": null,
      "outputs": []
    },
    {
      "cell_type": "markdown",
      "source": [
        "#### Bar chart"
      ],
      "metadata": {
        "id": "RVl2U8yiRdTx"
      }
    },
    {
      "cell_type": "code",
      "source": [
        "sma.plot.bar(pd_img=pd_img_turq_roi, img_idx=18, kmeans=kmeans_turq_roi, verbose=True)"
      ],
      "metadata": {
        "id": "JwbuUNZfGQmV"
      },
      "execution_count": null,
      "outputs": []
    },
    {
      "cell_type": "markdown",
      "source": [
        "#### Color ribbon"
      ],
      "metadata": {
        "id": "LxrLLWkzRfvp"
      }
    },
    {
      "cell_type": "code",
      "source": [
        "sma.plot.ribbon(pd_img=pd_img_turq_roi, img_idx=19, kmeans=kmeans_turq_roi, verbose=True)"
      ],
      "metadata": {
        "id": "z5pNisW2GY7E"
      },
      "execution_count": null,
      "outputs": []
    },
    {
      "cell_type": "markdown",
      "source": [
        "## Blue Marilyn"
      ],
      "metadata": {
        "id": "ESZ8yJLZlFn-"
      }
    },
    {
      "cell_type": "markdown",
      "source": [
        "### Extraction"
      ],
      "metadata": {
        "id": "3ruwuu3JBK_D"
      }
    },
    {
      "cell_type": "code",
      "source": [
        "blue_marilyn_roi = {}\n",
        "\n",
        "for param in [\n",
        "    (\"20_1\", \"blue_marilyn_background\", \"sampling\", [(0, 145, 0, 145)], None),\n",
        "    (\"20_2\", \"blue_marilyn_hair\", \"sampling\", [(45, 200, 485, 590)], None),\n",
        "    (\"20_3\", \"blue_marilyn_eyeshadow\", \"sampling\", [(470, 490, 300, 320)], (600, 960, 600, 800)),\n",
        "    (\"20_4\", \"blue_marilyn_face\", \"exact\", [(110, 40, 0), (255, 255, 255)], None),\n",
        "]:\n",
        "    blue_marilyn_roi[param[1]] = sma.roi.extract(\n",
        "        np_img=np_img,\n",
        "        key=\"blue_marilyn\",\n",
        "        img_idx=param[0],\n",
        "        extraction_name=param[1],\n",
        "        param={\"method\": param[2], \"value\": param[3]},\n",
        "        fix=param[4],\n",
        "        verbose=True\n",
        "    )"
      ],
      "metadata": {
        "id": "SEMaKRpYwG-4"
      },
      "execution_count": null,
      "outputs": []
    },
    {
      "cell_type": "markdown",
      "source": [
        "### Plots"
      ],
      "metadata": {
        "id": "BBpSgUHyGzQ-"
      }
    },
    {
      "cell_type": "markdown",
      "source": [
        "#### Data preparation and clurstering"
      ],
      "metadata": {
        "id": "kqOCt0f3RmcY"
      }
    },
    {
      "cell_type": "code",
      "source": [
        "pd_img_blue_roi = {k: v[v['hex'] != '#000000'] for k, v in sma.utils.pd_convert(blue_marilyn_roi).items()}\n",
        "kmeans_blue_roi = sma.cluster.kmeans(pd_img_blue_roi, n_clusters=15)"
      ],
      "metadata": {
        "id": "jpbBYvRVG0Q9"
      },
      "execution_count": null,
      "outputs": []
    },
    {
      "cell_type": "markdown",
      "source": [
        "#### Scatter plot with clusters"
      ],
      "metadata": {
        "id": "es4z63zxRpGo"
      }
    },
    {
      "cell_type": "code",
      "source": [
        "sma.plot.scatter(pd_img=pd_img_blue_roi, img_idx=21, kmeans=kmeans_blue_roi, verbose=True)"
      ],
      "metadata": {
        "id": "kjCUfsckG-m0"
      },
      "execution_count": null,
      "outputs": []
    },
    {
      "cell_type": "markdown",
      "source": [
        "#### Bar chart"
      ],
      "metadata": {
        "id": "OqHS8M6ZRrmY"
      }
    },
    {
      "cell_type": "code",
      "source": [
        "sma.plot.bar(pd_img=pd_img_blue_roi, img_idx=22, kmeans=kmeans_blue_roi, verbose=True)"
      ],
      "metadata": {
        "id": "xVMlD91lHCQU"
      },
      "execution_count": null,
      "outputs": []
    },
    {
      "cell_type": "markdown",
      "source": [
        "#### Color ribbon"
      ],
      "metadata": {
        "id": "dSKbElQwRtZv"
      }
    },
    {
      "cell_type": "code",
      "source": [
        "sma.plot.ribbon(pd_img=pd_img_blue_roi, img_idx=23, kmeans=kmeans_blue_roi, verbose=True)"
      ],
      "metadata": {
        "id": "0C-GURCSHF7s"
      },
      "execution_count": null,
      "outputs": []
    },
    {
      "cell_type": "markdown",
      "source": [
        "## Eggblue Marilyn"
      ],
      "metadata": {
        "id": "xLcKuII_lIQX"
      }
    },
    {
      "cell_type": "markdown",
      "source": [
        "### Extraction\n",
        "\n"
      ],
      "metadata": {
        "id": "uRnQ_vRsBFm8"
      }
    },
    {
      "cell_type": "code",
      "source": [
        "eggblue_marilyn_roi = {}\n",
        "\n",
        "for param in [\n",
        "    (\"24_1\", \"eggblue_marilyn_background\", \"exact\", [(76, 31, 178), (88, 61, 210)], None),\n",
        "    (\"24_2\", \"eggblue_marilyn_hair\", \"exact\", [(12, 60, 60), (27, 181, 232)], None),\n",
        "    (\"24_3\", \"eggblue_marilyn_eyeshadow\", \"sampling\", [(460, 480, 470, 500)], (600, 960, 600, 800)),\n",
        "    (\"24_4\", \"eggblue_marilyn_face\", \"exact\", [(110, 40, 0), (255, 255, 255)], None),\n",
        "]:\n",
        "    eggblue_marilyn_roi[param[1]] = sma.roi.extract(\n",
        "        np_img=np_img,\n",
        "        key=\"eggblue_marilyn\",\n",
        "        img_idx=param[0],\n",
        "        extraction_name=param[1],\n",
        "        param={\"method\": param[2], \"value\": param[3]},\n",
        "        fix=param[4],\n",
        "        verbose=True\n",
        "    )"
      ],
      "metadata": {
        "id": "3jG-4S0rjNG2"
      },
      "execution_count": null,
      "outputs": []
    },
    {
      "cell_type": "markdown",
      "source": [
        "### Plots"
      ],
      "metadata": {
        "id": "utFVKpCUHq1F"
      }
    },
    {
      "cell_type": "markdown",
      "source": [
        "#### Data preparation and clurstering"
      ],
      "metadata": {
        "id": "J_4D2K18RyY_"
      }
    },
    {
      "cell_type": "code",
      "source": [
        "pd_img_eggblue_roi = {k: v[v['hex'] != '#000000'] for k, v in sma.utils.pd_convert(eggblue_marilyn_roi).items()}\n",
        "kmeans_eggblue_roi = sma.cluster.kmeans(pd_img_eggblue_roi, n_clusters=15)"
      ],
      "metadata": {
        "id": "_aoCPLuKHsEN"
      },
      "execution_count": null,
      "outputs": []
    },
    {
      "cell_type": "markdown",
      "source": [
        "#### Scatter plot with clusters"
      ],
      "metadata": {
        "id": "gST5rLIHR1Q_"
      }
    },
    {
      "cell_type": "code",
      "source": [
        "sma.plot.scatter(pd_img=pd_img_eggblue_roi, img_idx=25, kmeans=kmeans_eggblue_roi, verbose=True)"
      ],
      "metadata": {
        "id": "TV1XFlLxH6RF"
      },
      "execution_count": null,
      "outputs": []
    },
    {
      "cell_type": "markdown",
      "source": [
        "#### Bar chart"
      ],
      "metadata": {
        "id": "O1jlRGLXR3if"
      }
    },
    {
      "cell_type": "code",
      "source": [
        "sma.plot.bar(pd_img=pd_img_eggblue_roi, img_idx=26, kmeans=kmeans_eggblue_roi, verbose=True)"
      ],
      "metadata": {
        "id": "Sy6XE_2vH-kG"
      },
      "execution_count": null,
      "outputs": []
    },
    {
      "cell_type": "markdown",
      "source": [
        "#### Color ribbon"
      ],
      "metadata": {
        "id": "VhkdCtTuR55X"
      }
    },
    {
      "cell_type": "code",
      "source": [
        "sma.plot.ribbon(pd_img=pd_img_eggblue_roi, img_idx=27, kmeans=kmeans_eggblue_roi, verbose=True)"
      ],
      "metadata": {
        "id": "82IRTrHWIRhd"
      },
      "execution_count": null,
      "outputs": []
    },
    {
      "cell_type": "markdown",
      "source": [
        "# Gun shot repair for Blue Marilyn\n",
        "\n",
        "Source code of used functions in this section:\n",
        "\n",
        "- `sma.roi.knn_repair`: https://github.com/GitData-GA/shot-marilyns-analysis/blob/main/src/sma/roi/knn_repair.py"
      ],
      "metadata": {
        "id": "nYz6OqK0LNMQ"
      }
    },
    {
      "cell_type": "code",
      "source": [
        "blue_marilyn_repair = sma.roi.knn_repair(\n",
        "    np_img = np_img,\n",
        "    key=\"blue_marilyn\",\n",
        "    img_idx=\"28_1\",\n",
        "    n_neighbors=8,\n",
        "    start_col=410,\n",
        "    end_col=450,\n",
        "    start_row=375,\n",
        "    end_row=430,\n",
        "    verbose=True\n",
        ")"
      ],
      "metadata": {
        "id": "Bue6qJv8MHaB"
      },
      "execution_count": null,
      "outputs": []
    },
    {
      "cell_type": "markdown",
      "metadata": {
        "id": "Hk_EgcwEgmQo"
      },
      "source": [
        "# Save all images in a zip file"
      ]
    },
    {
      "cell_type": "code",
      "execution_count": null,
      "metadata": {
        "id": "WrRr8euGyQ0z"
      },
      "outputs": [],
      "source": [
        "shutil.make_archive(\"img.zip\".replace('.zip', ''), 'zip', 'img')"
      ]
    }
  ],
  "metadata": {
    "colab": {
      "provenance": [],
      "authorship_tag": "ABX9TyM0kMshYGwqsoAQqCnwFK8x",
      "include_colab_link": true
    },
    "kernelspec": {
      "display_name": "Python 3",
      "name": "python3"
    },
    "language_info": {
      "name": "python"
    }
  },
  "nbformat": 4,
  "nbformat_minor": 0
}