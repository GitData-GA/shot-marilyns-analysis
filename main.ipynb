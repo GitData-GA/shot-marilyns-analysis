{
  "cells": [
    {
      "cell_type": "markdown",
      "metadata": {
        "id": "view-in-github",
        "colab_type": "text"
      },
      "source": [
        "<a href=\"https://colab.research.google.com/github/GitData-GA/shot-marilyns-analysis/blob/main/main.ipynb\" target=\"_parent\"><img src=\"https://colab.research.google.com/assets/colab-badge.svg\" alt=\"Open In Colab\"/></a>"
      ]
    },
    {
      "cell_type": "markdown",
      "metadata": {
        "id": "_9D4brbMESGe"
      },
      "source": [
        "# Import libraries and scripts"
      ]
    },
    {
      "cell_type": "code",
      "execution_count": 1,
      "metadata": {
        "id": "oguePuOiAy3t",
        "colab": {
          "base_uri": "https://localhost:8080/"
        },
        "outputId": "790f833a-2f1f-4185-ddf5-16c569486675"
      },
      "outputs": [
        {
          "output_type": "stream",
          "name": "stdout",
          "text": [
            "--2024-07-22 19:19:39--  https://shotmarilyns.gd.edu.kg/code/shot-marilyns-analysis-main.zip\n",
            "Resolving shotmarilyns.gd.edu.kg (shotmarilyns.gd.edu.kg)... 104.21.86.246, 172.67.138.99, 2606:4700:3030::6815:56f6, ...\n",
            "Connecting to shotmarilyns.gd.edu.kg (shotmarilyns.gd.edu.kg)|104.21.86.246|:443... connected.\n",
            "HTTP request sent, awaiting response... 200 OK\n",
            "Length: 1197531 (1.1M) [application/zip]\n",
            "Saving to: ‘shot-marilyns-analysis-main.zip’\n",
            "\n",
            "shot-marilyns-analy 100%[===================>]   1.14M  --.-KB/s    in 0.01s   \n",
            "\n",
            "2024-07-22 19:19:40 (86.8 MB/s) - ‘shot-marilyns-analysis-main.zip’ saved [1197531/1197531]\n",
            "\n",
            "Archive:  shot-marilyns-analysis-main.zip\n",
            "5ea29bf490cf75b835fa6192d673edfc9512275c\n",
            "   creating: shot-marilyns-analysis-main/\n",
            "  inflating: shot-marilyns-analysis-main/README.md  \n",
            "   creating: shot-marilyns-analysis-main/data/\n",
            "  inflating: shot-marilyns-analysis-main/data/1_1_orange_marilyn.jpg  \n",
            "  inflating: shot-marilyns-analysis-main/data/1_2_red_marilyn.jpg  \n",
            "  inflating: shot-marilyns-analysis-main/data/1_3_turq_marilyn.jpg  \n",
            "  inflating: shot-marilyns-analysis-main/data/1_4_blue_marilyn.jpg  \n",
            "  inflating: shot-marilyns-analysis-main/data/1_5_eggblue_marilyn.jpg  \n",
            "  inflating: shot-marilyns-analysis-main/main.ipynb  \n",
            "   creating: shot-marilyns-analysis-main/src/\n",
            "  inflating: shot-marilyns-analysis-main/src/requirements.txt  \n",
            "   creating: shot-marilyns-analysis-main/src/sma/\n",
            "  inflating: shot-marilyns-analysis-main/src/sma/__init__.py  \n",
            "   creating: shot-marilyns-analysis-main/src/sma/cluster/\n",
            "  inflating: shot-marilyns-analysis-main/src/sma/cluster/__init__.py  \n",
            "  inflating: shot-marilyns-analysis-main/src/sma/cluster/kmeans.py  \n",
            "   creating: shot-marilyns-analysis-main/src/sma/plot/\n",
            "  inflating: shot-marilyns-analysis-main/src/sma/plot/__init__.py  \n",
            "  inflating: shot-marilyns-analysis-main/src/sma/plot/bar.py  \n",
            "  inflating: shot-marilyns-analysis-main/src/sma/plot/distribution.py  \n",
            "  inflating: shot-marilyns-analysis-main/src/sma/plot/entropy_heatmap.py  \n",
            "  inflating: shot-marilyns-analysis-main/src/sma/plot/ribbon.py  \n",
            "  inflating: shot-marilyns-analysis-main/src/sma/plot/scatter.py  \n",
            "   creating: shot-marilyns-analysis-main/src/sma/roi/\n",
            "  inflating: shot-marilyns-analysis-main/src/sma/roi/__init__.py  \n",
            "  inflating: shot-marilyns-analysis-main/src/sma/roi/convert_to_numerical_tuple.py  \n",
            "  inflating: shot-marilyns-analysis-main/src/sma/roi/extract.py  \n",
            "  inflating: shot-marilyns-analysis-main/src/sma/roi/find_color_range.py  \n",
            "  inflating: shot-marilyns-analysis-main/src/sma/roi/knn_repair.py  \n",
            "  inflating: shot-marilyns-analysis-main/src/sma/roi/manual_fix.py  \n",
            "   creating: shot-marilyns-analysis-main/src/sma/utils/\n",
            "  inflating: shot-marilyns-analysis-main/src/sma/utils/__init__.py  \n",
            "  inflating: shot-marilyns-analysis-main/src/sma/utils/conditional_entropy.py  \n",
            "  inflating: shot-marilyns-analysis-main/src/sma/utils/joint_entropy.py  \n",
            "  inflating: shot-marilyns-analysis-main/src/sma/utils/np_convert.py  \n",
            "  inflating: shot-marilyns-analysis-main/src/sma/utils/pd_convert.py  \n",
            "  inflating: shot-marilyns-analysis-main/src/sma/utils/push_to_github.py  \n",
            "  inflating: shot-marilyns-analysis-main/src/sma/utils/relative_conditional_entropy.py  \n",
            "  inflating: shot-marilyns-analysis-main/src/sma/utils/rgb_to_hex.py  \n",
            "  inflating: shot-marilyns-analysis-main/src/sma/utils/rgb_to_hex_vectorized.py  \n",
            "  inflating: shot-marilyns-analysis-main/src/sma/utils/save_img.py  \n",
            "  inflating: shot-marilyns-analysis-main/src/sma/utils/shanon_entropy.py  \n"
          ]
        }
      ],
      "source": [
        "import os\n",
        "import shutil\n",
        "import sys\n",
        "\n",
        "!wget https://shotmarilyns.gd.edu.kg/code/shot-marilyns-analysis-main.zip\n",
        "!unzip shot-marilyns-analysis-main.zip\n",
        "sys.path.insert(0, './shot-marilyns-analysis-main/src')\n",
        "\n",
        "import sma\n",
        "os.makedirs(r'img')"
      ]
    },
    {
      "cell_type": "markdown",
      "metadata": {
        "id": "ySUTIX2bDXTF"
      },
      "source": [
        "# Improt images and prepare data\n",
        "\n",
        "Source code of used functions in this section:\n",
        "\n",
        "- `sma.utils.save_img`: https://github.com/GitData-GA/shot-marilyns-analysis/blob/main/src/sma/utils/save_img.py\n",
        "\n",
        "- `sma.utils.np_convert`: https://github.com/GitData-GA/shot-marilyns-analysis/blob/main/src/sma/utils/np_convert.py\n",
        "\n",
        "- `sma.utils.pd_convert`: https://github.com/GitData-GA/shot-marilyns-analysis/blob/main/src/sma/utils/pd_convert.py\n"
      ]
    },
    {
      "cell_type": "code",
      "execution_count": null,
      "metadata": {
        "id": "0e_XdQCNBJbj"
      },
      "outputs": [],
      "source": [
        "img_links = {\n",
        "    \"orange_marilyn\": \"shot-marilyns-analysis/data/1_1_orange_marilyn.jpg\",\n",
        "    \"red_marilyn\": \"shot-marilyns-analysis/data/1_2_red_marilyn.jpg\",\n",
        "    \"turq_marilyn\": \"shot-marilyns-analysis/data/1_3_turq_marilyn.jpg\",\n",
        "    \"blue_marilyn\": \"shot-marilyns-analysis/data/1_4_blue_marilyn.jpg\",\n",
        "    \"eggblue_marilyn\": \"shot-marilyns-analysis/data/1_5_eggblue_marilyn.jpg\"\n",
        "}"
      ]
    },
    {
      "cell_type": "markdown",
      "metadata": {
        "id": "KpK5OYNuo77Y"
      },
      "source": [
        "## Save images to local directory"
      ]
    },
    {
      "cell_type": "code",
      "execution_count": null,
      "metadata": {
        "id": "XTFMI8Xcn6UR"
      },
      "outputs": [],
      "source": [
        "sma.utils.save_img(img_links=img_links, img_idx=1, verbose=True)"
      ]
    },
    {
      "cell_type": "markdown",
      "metadata": {
        "id": "2Vn31lmZWN8R"
      },
      "source": [
        "## Store the images as a NumPy array"
      ]
    },
    {
      "cell_type": "code",
      "execution_count": null,
      "metadata": {
        "id": "FrmAl_wPDZqM"
      },
      "outputs": [],
      "source": [
        "np_img = sma.utils.np_convert(img_links=img_links)\n",
        "np_img['orange_marilyn']"
      ]
    },
    {
      "cell_type": "markdown",
      "metadata": {
        "id": "1TQbFyAUV2xs"
      },
      "source": [
        "## Store the images as a dictionary of 5 Pandas dataframes with HEX codes"
      ]
    },
    {
      "cell_type": "code",
      "execution_count": null,
      "metadata": {
        "id": "o5F81926TRCs"
      },
      "outputs": [],
      "source": [
        "pd_img = sma.utils.pd_convert(np_img=np_img)\n",
        "pd_img['orange_marilyn']"
      ]
    },
    {
      "cell_type": "markdown",
      "metadata": {
        "id": "Ak4P8OdVkVqD"
      },
      "source": [
        "# Visualization\n",
        "\n",
        "Source code of used functions in this section:\n",
        "\n",
        "- `sma.plot.distribution`: https://github.com/GitData-GA/shot-marilyns-analysis/blob/main/src/sma/plot/distribution.py\n",
        "\n",
        "- `sma.plot.entropy_heatmap`: https://github.com/GitData-GA/shot-marilyns-analysis/blob/main/src/sma/plot/entropy_heatmap.py\n",
        "\n",
        "- `sma.plot.scatter`: https://github.com/GitData-GA/shot-marilyns-analysis/blob/main/src/sma/plot/scatter.py\n",
        "\n",
        "- `sma.cluster.kmeans`: https://github.com/GitData-GA/shot-marilyns-analysis/blob/main/src/sma/cluster/kmeans.py\n",
        "\n",
        "- `sma.plot.bar`: https://github.com/GitData-GA/shot-marilyns-analysis/blob/main/src/sma/plot/bar.py\n",
        "\n",
        "- `sma.plot.ribbon`: https://github.com/GitData-GA/shot-marilyns-analysis/blob/main/src/sma/plot/ribbon.py"
      ]
    },
    {
      "cell_type": "markdown",
      "metadata": {
        "id": "LVajlTZwZxRa"
      },
      "source": [
        "## Distribution plots"
      ]
    },
    {
      "cell_type": "code",
      "execution_count": null,
      "metadata": {
        "collapsed": true,
        "id": "wj2VdMsWuLu3"
      },
      "outputs": [],
      "source": [
        "sma.plot.distribution(np_img=np_img, img_idx=2, verbose=True)"
      ]
    },
    {
      "cell_type": "markdown",
      "metadata": {
        "id": "WUApVeKDdBgJ"
      },
      "source": [
        "## Relative conditional entropy plots"
      ]
    },
    {
      "cell_type": "code",
      "execution_count": null,
      "metadata": {
        "id": "0ihlb7qswxz4"
      },
      "outputs": [],
      "source": [
        "sma.plot.entropy_heatmap(np_img=np_img, img_idx=3, verbose=True)"
      ]
    },
    {
      "cell_type": "markdown",
      "metadata": {
        "id": "phgE3dP-cGxs"
      },
      "source": [
        "## RGB space scatterplots"
      ]
    },
    {
      "cell_type": "code",
      "execution_count": null,
      "metadata": {
        "collapsed": true,
        "id": "4SdH1h3P1qJJ"
      },
      "outputs": [],
      "source": [
        "sma.plot.scatter(pd_img=pd_img, img_idx=4, verbose=True)"
      ]
    },
    {
      "cell_type": "markdown",
      "metadata": {
        "id": "tbYxneMuWrah"
      },
      "source": [
        "## KMeans clustering"
      ]
    },
    {
      "cell_type": "code",
      "execution_count": null,
      "metadata": {
        "id": "ObFkRon4l3Un"
      },
      "outputs": [],
      "source": [
        "kmean_result = sma.cluster.kmeans(pd_img=pd_img, n_clusters=15)"
      ]
    },
    {
      "cell_type": "markdown",
      "metadata": {
        "id": "0H7SwbbixOvl"
      },
      "source": [
        "### Scatter plot by clusters"
      ]
    },
    {
      "cell_type": "code",
      "execution_count": null,
      "metadata": {
        "id": "a0A2vaeD7yP9"
      },
      "outputs": [],
      "source": [
        "sma.plot.scatter(pd_img=pd_img, img_idx=5, kmeans=kmean_result, verbose=True)"
      ]
    },
    {
      "cell_type": "markdown",
      "metadata": {
        "id": "ekoZzJ6KxS-d"
      },
      "source": [
        "### Bar chart by clusters"
      ]
    },
    {
      "cell_type": "code",
      "execution_count": null,
      "metadata": {
        "id": "cDe9bomqmsyu"
      },
      "outputs": [],
      "source": [
        "sma.plot.bar(pd_img=pd_img, img_idx=6, kmeans=kmean_result, verbose=True)"
      ]
    },
    {
      "cell_type": "markdown",
      "metadata": {
        "id": "rTB8V-sOxWAd"
      },
      "source": [
        "### Color ribbon by clusters"
      ]
    },
    {
      "cell_type": "code",
      "execution_count": null,
      "metadata": {
        "id": "9IW8QV_0osTd"
      },
      "outputs": [],
      "source": [
        "sma.plot.ribbon(pd_img=pd_img, img_idx=7, kmeans=kmean_result, verbose=True)"
      ]
    },
    {
      "cell_type": "markdown",
      "metadata": {
        "id": "dNm7JnITLvly"
      },
      "source": [
        "# Region of interest\n",
        "\n",
        "Source code of used functions in this section:\n",
        "\n",
        "- `sma.roi.extract`: https://github.com/GitData-GA/shot-marilyns-analysis/blob/main/src/sma/roi/extract.py"
      ]
    },
    {
      "cell_type": "markdown",
      "metadata": {
        "id": "QzS3n9atk4jX"
      },
      "source": [
        "## Extraction"
      ]
    },
    {
      "cell_type": "code",
      "execution_count": null,
      "metadata": {
        "id": "Nj40KXUtZQf0"
      },
      "outputs": [],
      "source": [
        "roi = {}\n",
        "param = {\n",
        "    \"orange_marilyn\": [\n",
        "        (\"8_1\", \"background\", \"sampling\", [(0, 100, 0, 100)], None),\n",
        "        (\"8_2\", \"hair\", \"sampling\", [(100, 150, 300, 400)], None),\n",
        "        (\"8_3\", \"eyeshadow\", \"sampling\", [(460, 490, 450, 550)], None),\n",
        "        (\"8_4\", \"face\", \"sampling\", [(300, 418, 300, 610)], None)\n",
        "    ],\n",
        "    \"red_marilyn\": [\n",
        "        (\"9_1\", \"background\", \"sampling\", [(0, 960, 0, 30), (0, 960, 930, 960)], (690, 800, 275, 475)),\n",
        "        (\"9_2\", \"hair\", \"sampling\", [(10, 200, 300, 380), (10, 200, 440, 520)], None),\n",
        "        (\"9_3\", \"eyeshadow\", \"sampling\", [(455, 480, 455, 520)], None),\n",
        "        (\"9_4\", \"face\", \"sampling\", [(280, 460, 310, 435)], None)\n",
        "    ],\n",
        "    \"turq_marilyn\": [\n",
        "        (\"10_1\", \"background\", \"sampling\", [(0, 960, 0, 40), (0, 960, 930, 970)], None),\n",
        "        (\"10_2\", \"hair\", \"exact\", [(19, 101, 70), (28, 255, 255)], None),\n",
        "        (\"10_3\", \"eyeshadow\", \"sampling\", [(470, 490, 300, 320), (470, 490, 500, 550)], None),\n",
        "        (\"10_4\", \"face\", \"exact\", [(0, 0, 0), (17, 100, 255)], None)\n",
        "    ],\n",
        "    \"blue_marilyn\": [\n",
        "        (\"11_1\", \"background\", \"sampling\", [(0, 145, 0, 145)], None),\n",
        "        (\"11_2\", \"hair\", \"sampling\", [(45, 200, 485, 590)], None),\n",
        "        (\"11_3\", \"eyeshadow\", \"sampling\", [(470, 490, 300, 320)], (600, 960, 600, 800)),\n",
        "        (\"11_4\", \"face\", \"exact\", [(110, 40, 0), (255, 255, 255)], None),\n",
        "    ],\n",
        "    \"eggblue_marilyn\": [\n",
        "        (\"12_1\", \"background\", \"exact\", [(76, 31, 178), (88, 61, 210)], None),\n",
        "        (\"12_2\", \"hair\", \"exact\", [(12, 60, 60), (27, 181, 232)], None),\n",
        "        (\"12_3\", \"eyeshadow\", \"sampling\", [(460, 480, 470, 500)], (600, 960, 600, 800)),\n",
        "        (\"12_4\", \"face\", \"exact\", [(110, 40, 0), (255, 255, 255)], None),\n",
        "    ]\n",
        "}\n",
        "\n",
        "for key, value in param.items():\n",
        "    single_roi = {}\n",
        "    for param in value:\n",
        "        single_roi[f\"{key}_{param[1]}\"] = sma.roi.extract(\n",
        "            np_img=np_img,\n",
        "            key=key,\n",
        "            img_idx=param[0],\n",
        "            extraction_name=param[1],\n",
        "            param={\"method\": param[2], \"value\": param[3]},\n",
        "            fix=param[4],\n",
        "            verbose=True\n",
        "        )\n",
        "    roi[key] = single_roi"
      ]
    },
    {
      "cell_type": "markdown",
      "metadata": {
        "id": "gbP9mp91BNhz"
      },
      "source": [
        "## Plots"
      ]
    },
    {
      "cell_type": "code",
      "execution_count": null,
      "metadata": {
        "id": "CFo6T5hB7pfA"
      },
      "outputs": [],
      "source": [
        "img_idx = 12\n",
        "for key, value in roi.items():\n",
        "    pd_img_roi = {k: v[v['hex'] != '#000000'] for k, v in sma.utils.pd_convert(value).items()}\n",
        "    kmeans_roi = sma.cluster.kmeans(pd_img_roi, n_clusters=15)\n",
        "    sma.plot.scatter(pd_img=pd_img_roi, img_idx=img_idx + 1, kmeans=kmeans_roi, verbose=True)\n",
        "    sma.plot.bar(pd_img=pd_img_roi, img_idx=img_idx + 2, kmeans=kmeans_roi, verbose=True)\n",
        "    sma.plot.ribbon(pd_img=pd_img_roi, img_idx=img_idx + 3, kmeans=kmeans_roi, verbose=True)\n",
        "    img_idx += 3"
      ]
    },
    {
      "cell_type": "markdown",
      "metadata": {
        "id": "nYz6OqK0LNMQ"
      },
      "source": [
        "# Gun shot repair for Blue Marilyn\n",
        "\n",
        "Source code of used functions in this section:\n",
        "\n",
        "- `sma.roi.knn_repair`: https://github.com/GitData-GA/shot-marilyns-analysis/blob/main/src/sma/roi/knn_repair.py"
      ]
    },
    {
      "cell_type": "code",
      "execution_count": null,
      "metadata": {
        "id": "Bue6qJv8MHaB"
      },
      "outputs": [],
      "source": [
        "blue_marilyn_repair = sma.roi.knn_repair(\n",
        "    np_img = np_img,\n",
        "    key=\"blue_marilyn\",\n",
        "    img_idx=\"28_1\",\n",
        "    n_neighbors=8,\n",
        "    start_col=410,\n",
        "    end_col=450,\n",
        "    start_row=375,\n",
        "    end_row=430,\n",
        "    verbose=True\n",
        ")"
      ]
    },
    {
      "cell_type": "markdown",
      "metadata": {
        "id": "Hk_EgcwEgmQo"
      },
      "source": [
        "# Save all images in a zip file"
      ]
    },
    {
      "cell_type": "code",
      "execution_count": null,
      "metadata": {
        "id": "WrRr8euGyQ0z"
      },
      "outputs": [],
      "source": [
        "shutil.make_archive(\"img.zip\".replace('.zip', ''), 'zip', 'img')"
      ]
    },
    {
      "cell_type": "markdown",
      "metadata": {
        "id": "byIC_jlfGv43"
      },
      "source": [
        "# Push images to GitHub (for project members only)\n",
        "\n",
        "Source code of used functions in this section:\n",
        "\n",
        "- `sma.utils.push_to_github`: https://github.com/GitData-GA/shot-marilyns-analysis/blob/main/src/sma/utils/push_to_github.py"
      ]
    },
    {
      "cell_type": "code",
      "execution_count": null,
      "metadata": {
        "id": "GVUC3RVZifar"
      },
      "outputs": [],
      "source": [
        "sma.utils.push_to_github(\n",
        "    username=\"Gitdata-GA\",\n",
        "    repository=\"shot-marilyns-analysis\",\n",
        "    branch=\"gh-pages\",\n",
        "    from_path=\"img\",\n",
        "    to_path=\"assets/img-paper\",\n",
        "    timezone=\"US/Pacific\"\n",
        ")"
      ]
    },
    {
      "cell_type": "code",
      "execution_count": null,
      "metadata": {
        "id": "-sp2C2yZjWps"
      },
      "outputs": [],
      "source": [
        "sma.utils.push_to_github(\n",
        "    username=\"Gitdata-GA\",\n",
        "    repository=\"shot-marilyns-analysis\",\n",
        "    branch=\"paper-arXiv\",\n",
        "    from_path=\"img\",\n",
        "    to_path=\"main_files/figure-latex\",\n",
        "    timezone=\"US/Pacific\"\n",
        ")"
      ]
    }
  ],
  "metadata": {
    "colab": {
      "provenance": [],
      "authorship_tag": "ABX9TyOHxwfERNd9uvZUOsfOMqvB",
      "include_colab_link": true
    },
    "kernelspec": {
      "display_name": "Python 3",
      "name": "python3"
    },
    "language_info": {
      "name": "python"
    }
  },
  "nbformat": 4,
  "nbformat_minor": 0
}