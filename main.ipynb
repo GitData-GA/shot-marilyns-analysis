{
  "cells": [
    {
      "cell_type": "markdown",
      "metadata": {
        "id": "view-in-github",
        "colab_type": "text"
      },
      "source": [
        "<a href=\"https://colab.research.google.com/github/GitData-GA/shot-marilyns-analysis/blob/main/main.ipynb\" target=\"_parent\"><img src=\"https://colab.research.google.com/assets/colab-badge.svg\" alt=\"Open In Colab\"/></a>"
      ]
    },
    {
      "cell_type": "markdown",
      "metadata": {
        "id": "_9D4brbMESGe"
      },
      "source": [
        "# Import libraries and scripts"
      ]
    },
    {
      "cell_type": "code",
      "execution_count": null,
      "metadata": {
        "id": "oguePuOiAy3t"
      },
      "outputs": [],
      "source": [
        "import os\n",
        "import shutil\n",
        "import sys\n",
        "from google.colab import userdata\n",
        "\n",
        "!git clone https://github.com/GitData-GA/shot-marilyns-analysis.git\n",
        "sys.path.insert(0, './shot-marilyns-analysis/src')\n",
        "\n",
        "import sma\n",
        "os.makedirs(r'img')"
      ]
    },
    {
      "cell_type": "markdown",
      "metadata": {
        "id": "ySUTIX2bDXTF"
      },
      "source": [
        "# Improt images and prepare data\n",
        "\n",
        "Source code of used functions in this section:\n",
        "\n",
        "- `sma.utils.save_img`: https://github.com/GitData-GA/shot-marilyns-analysis/blob/main/src/sma/utils/save_img.py\n",
        "\n",
        "- `sma.utils.np_convert`: https://github.com/GitData-GA/shot-marilyns-analysis/blob/main/src/sma/utils/np_convert.py\n",
        "\n",
        "- `sma.utils.pd_convert`: https://github.com/GitData-GA/shot-marilyns-analysis/blob/main/src/sma/utils/pd_convert.py\n"
      ]
    },
    {
      "cell_type": "code",
      "execution_count": null,
      "metadata": {
        "id": "0e_XdQCNBJbj"
      },
      "outputs": [],
      "source": [
        "img_links = {\n",
        "    \"orange_marilyn\": \"shot-marilyns-analysis/data/1_1_orange_marilyn.jpg\",\n",
        "    \"red_marilyn\": \"shot-marilyns-analysis/data/1_2_red_marilyn.jpg\",\n",
        "    \"turq_marilyn\": \"shot-marilyns-analysis/data/1_3_turq_marilyn.jpg\",\n",
        "    \"blue_marilyn\": \"shot-marilyns-analysis/data/1_4_blue_marilyn.jpg\",\n",
        "    \"eggblue_marilyn\": \"shot-marilyns-analysis/data/1_5_eggblue_marilyn.jpg\"\n",
        "}"
      ]
    },
    {
      "cell_type": "markdown",
      "metadata": {
        "id": "KpK5OYNuo77Y"
      },
      "source": [
        "## Save images to local directory"
      ]
    },
    {
      "cell_type": "code",
      "execution_count": null,
      "metadata": {
        "id": "XTFMI8Xcn6UR"
      },
      "outputs": [],
      "source": [
        "sma.utils.save_img(img_links=img_links, img_idx=1, verbose=True)"
      ]
    },
    {
      "cell_type": "markdown",
      "metadata": {
        "id": "2Vn31lmZWN8R"
      },
      "source": [
        "## Store the images as a NumPy array"
      ]
    },
    {
      "cell_type": "code",
      "execution_count": null,
      "metadata": {
        "id": "FrmAl_wPDZqM"
      },
      "outputs": [],
      "source": [
        "np_img = sma.utils.np_convert(img_links=img_links)\n",
        "np_img['blue_marilyn']"
      ]
    },
    {
      "cell_type": "markdown",
      "metadata": {
        "id": "1TQbFyAUV2xs"
      },
      "source": [
        "## Store the images as a dictionary of 5 Pandas dataframes with HEX codes"
      ]
    },
    {
      "cell_type": "code",
      "execution_count": null,
      "metadata": {
        "id": "o5F81926TRCs"
      },
      "outputs": [],
      "source": [
        "pd_img = sma.utils.pd_convert(np_img=np_img)\n",
        "pd_img['orange_marilyn']"
      ]
    },
    {
      "cell_type": "markdown",
      "metadata": {
        "id": "Ak4P8OdVkVqD"
      },
      "source": [
        "# Visualization\n",
        "\n",
        "Source code of used functions in this section:\n",
        "\n",
        "- `sma.plot.distribution`: https://github.com/GitData-GA/shot-marilyns-analysis/blob/main/src/sma/plot/distribution.py\n",
        "\n",
        "- `sma.plot.entropy_heatmap`: https://github.com/GitData-GA/shot-marilyns-analysis/blob/main/src/sma/plot/entropy_heatmap.py\n",
        "\n",
        "- `sma.plot.scatter`: https://github.com/GitData-GA/shot-marilyns-analysis/blob/main/src/sma/plot/scatter.py\n",
        "\n",
        "- `sma.cluster.kmeans`: https://github.com/GitData-GA/shot-marilyns-analysis/blob/main/src/sma/cluster/kmeans.py\n",
        "\n",
        "- `sma.plot.bar`: https://github.com/GitData-GA/shot-marilyns-analysis/blob/main/src/sma/plot/bar.py\n",
        "\n",
        "- `sma.plot.ribbon`: https://github.com/GitData-GA/shot-marilyns-analysis/blob/main/src/sma/plot/ribbon.py"
      ]
    },
    {
      "cell_type": "markdown",
      "metadata": {
        "id": "LVajlTZwZxRa"
      },
      "source": [
        "## Distribution plots"
      ]
    },
    {
      "cell_type": "code",
      "execution_count": null,
      "metadata": {
        "id": "wj2VdMsWuLu3",
        "collapsed": true
      },
      "outputs": [],
      "source": [
        "sma.plot.distribution(np_img=np_img, img_idx=2, verbose=True)"
      ]
    },
    {
      "cell_type": "markdown",
      "metadata": {
        "id": "WUApVeKDdBgJ"
      },
      "source": [
        "## Relative conditional entropy plots"
      ]
    },
    {
      "cell_type": "code",
      "execution_count": null,
      "metadata": {
        "id": "0ihlb7qswxz4"
      },
      "outputs": [],
      "source": [
        "sma.plot.entropy_heatmap(np_img=np_img, img_idx=3, verbose=True)"
      ]
    },
    {
      "cell_type": "markdown",
      "metadata": {
        "id": "phgE3dP-cGxs"
      },
      "source": [
        "## RGB space scatterplots"
      ]
    },
    {
      "cell_type": "code",
      "execution_count": null,
      "metadata": {
        "collapsed": true,
        "id": "4SdH1h3P1qJJ"
      },
      "outputs": [],
      "source": [
        "sma.plot.scatter(pd_img=pd_img, img_idx=4, verbose=True)"
      ]
    },
    {
      "cell_type": "markdown",
      "metadata": {
        "id": "tbYxneMuWrah"
      },
      "source": [
        "## KMeans clustering"
      ]
    },
    {
      "cell_type": "code",
      "source": [
        "kmean_result = sma.cluster.kmeans(pd_img=pd_img, n_clusters=15)"
      ],
      "metadata": {
        "id": "ObFkRon4l3Un"
      },
      "execution_count": null,
      "outputs": []
    },
    {
      "cell_type": "markdown",
      "source": [
        "### Scatter plot by clusters"
      ],
      "metadata": {
        "id": "0H7SwbbixOvl"
      }
    },
    {
      "cell_type": "code",
      "execution_count": null,
      "metadata": {
        "id": "a0A2vaeD7yP9"
      },
      "outputs": [],
      "source": [
        "sma.plot.scatter(pd_img=pd_img, img_idx=5, kmeans=kmean_result, verbose=True)"
      ]
    },
    {
      "cell_type": "markdown",
      "source": [
        "### Bar chart by clusters"
      ],
      "metadata": {
        "id": "ekoZzJ6KxS-d"
      }
    },
    {
      "cell_type": "code",
      "source": [
        "sma.plot.bar(pd_img=pd_img, img_idx=6, kmeans=kmean_result, verbose=True)"
      ],
      "metadata": {
        "id": "cDe9bomqmsyu"
      },
      "execution_count": null,
      "outputs": []
    },
    {
      "cell_type": "markdown",
      "source": [
        "### Color ribbon by clusters"
      ],
      "metadata": {
        "id": "rTB8V-sOxWAd"
      }
    },
    {
      "cell_type": "code",
      "source": [
        "sma.plot.ribbon(pd_img=pd_img, img_idx=7, kmeans=kmean_result, verbose=True)"
      ],
      "metadata": {
        "id": "9IW8QV_0osTd"
      },
      "execution_count": null,
      "outputs": []
    },
    {
      "cell_type": "markdown",
      "source": [
        "# Region of interest\n",
        "\n",
        "Source code of used functions in this section:\n",
        "\n",
        "- `sma.roi.extract`: https://github.com/GitData-GA/shot-marilyns-analysis/blob/main/src/sma/roi/extract.py"
      ],
      "metadata": {
        "id": "dNm7JnITLvly"
      }
    },
    {
      "cell_type": "markdown",
      "source": [
        "## Extraction"
      ],
      "metadata": {
        "id": "QzS3n9atk4jX"
      }
    },
    {
      "cell_type": "code",
      "source": [
        "roi = {}\n",
        "param = {\n",
        "    \"orange_marilyn\": [\n",
        "        (\"8_1\", \"background\", \"sampling\", [(0, 100, 0, 100)], None),\n",
        "        (\"8_2\", \"hair\", \"sampling\", [(100, 150, 300, 400)], None),\n",
        "        (\"8_3\", \"eyeshadow\", \"sampling\", [(460, 490, 450, 550)], None),\n",
        "        (\"8_4\", \"face\", \"sampling\", [(300, 418, 300, 610)], None)\n",
        "    ],\n",
        "    \"red_marilyn\": [\n",
        "        (\"9_1\", \"background\", \"sampling\", [(0, 960, 0, 30), (0, 960, 930, 960)], (690, 800, 275, 475)),\n",
        "        (\"9_2\", \"hair\", \"sampling\", [(10, 200, 300, 380), (10, 200, 440, 520)], None),\n",
        "        (\"9_3\", \"eyeshadow\", \"sampling\", [(455, 480, 455, 520)], None),\n",
        "        (\"9_4\", \"face\", \"sampling\", [(280, 460, 310, 435)], None)\n",
        "    ],\n",
        "    \"turq_marilyn\": [\n",
        "        (\"10_1\", \"background\", \"sampling\", [(0, 960, 0, 40), (0, 960, 930, 970)], None),\n",
        "        (\"10_2\", \"hair\", \"exact\", [(19, 101, 70), (28, 255, 255)], None),\n",
        "        (\"10_3\", \"eyeshadow\", \"sampling\", [(470, 490, 300, 320), (470, 490, 500, 550)], None),\n",
        "        (\"10_4\", \"face\", \"exact\", [(0, 0, 0), (17, 100, 255)], None)\n",
        "    ],\n",
        "    \"blue_marilyn\": [\n",
        "        (\"11_1\", \"background\", \"sampling\", [(0, 145, 0, 145)], None),\n",
        "        (\"11_2\", \"hair\", \"sampling\", [(45, 200, 485, 590)], None),\n",
        "        (\"11_3\", \"eyeshadow\", \"sampling\", [(470, 490, 300, 320)], (600, 960, 600, 800)),\n",
        "        (\"11_4\", \"face\", \"exact\", [(110, 40, 0), (255, 255, 255)], None),\n",
        "    ],\n",
        "    \"eggblue_marilyn\": [\n",
        "        (\"12_1\", \"background\", \"exact\", [(76, 31, 178), (88, 61, 210)], None),\n",
        "        (\"12_2\", \"hair\", \"exact\", [(12, 60, 60), (27, 181, 232)], None),\n",
        "        (\"12_3\", \"eyeshadow\", \"sampling\", [(460, 480, 470, 500)], (600, 960, 600, 800)),\n",
        "        (\"12_4\", \"face\", \"exact\", [(110, 40, 0), (255, 255, 255)], None),\n",
        "    ]\n",
        "}\n",
        "\n",
        "for key, value in param.items():\n",
        "    single_roi = {}\n",
        "    for param in value:\n",
        "        single_roi[f\"{key}_{param[1]}\"] = sma.roi.extract(\n",
        "            np_img=np_img,\n",
        "            key=key,\n",
        "            img_idx=param[0],\n",
        "            extraction_name=param[1],\n",
        "            param={\"method\": param[2], \"value\": param[3]},\n",
        "            fix=param[4],\n",
        "            verbose=True\n",
        "        )\n",
        "    roi[key] = single_roi"
      ],
      "metadata": {
        "id": "Nj40KXUtZQf0"
      },
      "execution_count": null,
      "outputs": []
    },
    {
      "cell_type": "markdown",
      "source": [
        "## Plots"
      ],
      "metadata": {
        "id": "gbP9mp91BNhz"
      }
    },
    {
      "cell_type": "code",
      "source": [
        "img_idx = 12\n",
        "for key, value in roi.items():\n",
        "    pd_img_roi = {k: v[v['hex'] != '#000000'] for k, v in sma.utils.pd_convert(value).items()}\n",
        "    kmeans_roi = sma.cluster.kmeans(pd_img_roi, n_clusters=15)\n",
        "    sma.plot.scatter(pd_img=pd_img_roi, img_idx=img_idx + 1, kmeans=kmeans_roi, verbose=True)\n",
        "    sma.plot.bar(pd_img=pd_img_roi, img_idx=img_idx + 2, kmeans=kmeans_roi, verbose=True)\n",
        "    sma.plot.ribbon(pd_img=pd_img_roi, img_idx=img_idx + 3, kmeans=kmeans_roi, verbose=True)\n",
        "    img_idx += 3"
      ],
      "metadata": {
        "id": "CFo6T5hB7pfA"
      },
      "execution_count": null,
      "outputs": []
    },
    {
      "cell_type": "markdown",
      "source": [
        "# Gun shot repair for Blue Marilyn\n",
        "\n",
        "Source code of used functions in this section:\n",
        "\n",
        "- `sma.roi.knn_repair`: https://github.com/GitData-GA/shot-marilyns-analysis/blob/main/src/sma/roi/knn_repair.py"
      ],
      "metadata": {
        "id": "nYz6OqK0LNMQ"
      }
    },
    {
      "cell_type": "code",
      "source": [
        "blue_marilyn_repair = sma.roi.knn_repair(\n",
        "    np_img = np_img,\n",
        "    key=\"blue_marilyn\",\n",
        "    img_idx=\"28_1\",\n",
        "    n_neighbors=8,\n",
        "    start_col=410,\n",
        "    end_col=450,\n",
        "    start_row=375,\n",
        "    end_row=430,\n",
        "    verbose=True\n",
        ")"
      ],
      "metadata": {
        "id": "Bue6qJv8MHaB"
      },
      "execution_count": null,
      "outputs": []
    },
    {
      "cell_type": "markdown",
      "metadata": {
        "id": "Hk_EgcwEgmQo"
      },
      "source": [
        "# Save all images in a zip file"
      ]
    },
    {
      "cell_type": "code",
      "execution_count": null,
      "metadata": {
        "id": "WrRr8euGyQ0z"
      },
      "outputs": [],
      "source": [
        "shutil.make_archive(\"img.zip\".replace('.zip', ''), 'zip', 'img')"
      ]
    },
    {
      "cell_type": "markdown",
      "source": [
        "# Push images to GitHub (for project members only)\n",
        "\n",
        "- Please add the following secretes on your Colab:\n",
        "\n",
        "  - `gh_email`: your email address of the GitHub account that can access the [repo](https://github.com/GitData-GA/shot-marilyns-analysis/tree/main)\n",
        "\n",
        "  - `gh_username`: your username of the GitHub account that can access the [repo](https://github.com/GitData-GA/shot-marilyns-analysis/tree/main)\n",
        "\n",
        "  - `gh_password`: your password address of the GitHub account that can access the [repo](https://github.com/GitData-GA/shot-marilyns-analysis/tree/main)\n",
        "\n",
        "  - `gh_token`: your personal token of the GitHub account that can access the [repo](https://github.com/GitData-GA/shot-marilyns-analysis/tree/main). To get a personal access token, please see the [documentation](https://docs.github.com/en/authentication/keeping-your-account-and-data-secure/managing-your-personal-access-tokens#creating-a-personal-access-token-classic). In the \"Select scopes\" section, simply select all scopes."
      ],
      "metadata": {
        "id": "byIC_jlfGv43"
      }
    },
    {
      "cell_type": "code",
      "source": [
        "!git config --global user.email {userdata.get('gh_email')}\n",
        "!git config --global user.name {userdata.get('gh_username')}\n",
        "!git config --global user.password {userdata.get('gh_password')}\n",
        "!git clone --branch gh-pages https://{userdata.get('gh_token')}@github.com/GitData-GA/shot-marilyns-analysis gh-pages-copy\n",
        "%rm -r gh-pages-copy/assets/img-paper/*\n",
        "%cp img/* gh-pages-copy/assets/img-paper\n",
        "%cd gh-pages-copy\n",
        "!git add .\n",
        "!git commit -m 'Commit from colab - project shot-marilyns-analysis'\n",
        "!git push origin gh-pages"
      ],
      "metadata": {
        "id": "fz1m-VmTFGRv"
      },
      "execution_count": null,
      "outputs": []
    }
  ],
  "metadata": {
    "colab": {
      "provenance": [],
      "authorship_tag": "ABX9TyNb3HsXb4/Apliqpay8FkSN",
      "include_colab_link": true
    },
    "kernelspec": {
      "display_name": "Python 3",
      "name": "python3"
    },
    "language_info": {
      "name": "python"
    }
  },
  "nbformat": 4,
  "nbformat_minor": 0
}